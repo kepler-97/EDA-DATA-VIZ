{
 "cells": [
  {
   "cell_type": "markdown",
   "id": "4781b22a",
   "metadata": {
    "lang": "en"
   },
   "source": [
    "Visualization of Multiple Variables: EDA & Data Visual.\n",
    "---"
   ]
  },
  {
   "cell_type": "code",
   "execution_count": 7,
   "id": "a5877cd3",
   "metadata": {
    "ExecuteTime": {
     "end_time": "2021-12-19T03:10:11.934272Z",
     "start_time": "2021-12-19T03:10:06.453737Z"
    },
    "code_folding": [
     0
    ]
   },
   "outputs": [],
   "source": [
    "# import data manipulation libraries\n",
    "import pandas as pd\n",
    "import numpy as np\n",
    "\n",
    "# import visualization libraries\n",
    "import matplotlib.pyplot as plt\n",
    "import seaborn as sns\n",
    "import squarify # Treemaps visualization\n",
    "\n",
    "# import regular expressions to search patterns\n",
    "import re\n",
    "\n",
    "# includes graphics on notebook below to code cell\n",
    "%matplotlib inline\n"
   ]
  },
  {
   "cell_type": "markdown",
   "id": "4291c86a",
   "metadata": {},
   "source": [
    "A quick peek at the dataframe:\n",
    "---"
   ]
  },
  {
   "cell_type": "code",
   "execution_count": 8,
   "id": "51d96bec",
   "metadata": {
    "ExecuteTime": {
     "end_time": "2021-12-19T03:10:14.161698Z",
     "start_time": "2021-12-19T03:10:14.113693Z"
    },
    "scrolled": false
   },
   "outputs": [
    {
     "name": "stdout",
     "output_type": "stream",
     "text": [
      "  1::Toy Story (1995)::Animation|Children's|Comedy\n",
      "0  2::Jumanji (1995)::Adventure|Children's|Fantasy\n",
      "1       3::Grumpier Old Men (1995)::Comedy|Romance\n",
      "2        4::Waiting to Exhale (1995)::Comedy|Drama\n",
      "3    5::Father of the Bride Part II (1995)::Comedy\n",
      "4            6::Heat (1995)::Action|Crime|Thriller\n"
     ]
    }
   ],
   "source": [
    "import warnings\n",
    "warnings.filterwarnings(\"ignore\", category=FutureWarning)\n",
    "\n",
    "# import dataset:\n",
    "movies = pd.read_csv('Movies/movies.dat', \n",
    "                    engine = 'python', \n",
    "                    encoding = 'latin1', \n",
    "                    error_bad_lines = False, \n",
    "                    warn_bad_lines = False)\n",
    "\n",
    "# To show lots of rows and columns:\n",
    "pd.set_option('display.max_colwidth', None)\n",
    "\n",
    "print(movies.head())\n"
   ]
  },
  {
   "cell_type": "markdown",
   "id": "b54bbd69",
   "metadata": {},
   "source": [
    "The parameter **error_bad_lines** skip the invalid rows and change the dimension of the data frame. *Invalid rows are extra delimiter characters in the same row.* If we specify **error_bad_lines = False**, this will load the data into Python while skipping the bad lines, but with **warnings** of the skipped lines. To suppress this warning, we can set **warn_bad_lines = False.**"
   ]
  },
  {
   "cell_type": "markdown",
   "id": "243051bb",
   "metadata": {},
   "source": [
    "## Data Cleaning\n",
    "---\n",
    "*It's the process of cleaning messy data and transforming them into appropriate formats for further analysis and modeling.*"
   ]
  },
  {
   "cell_type": "markdown",
   "id": "00fcce54",
   "metadata": {},
   "source": [
    "Raw data. Movie titles are divided by the double point and the film genres separated by a vertical bar. Therefore I use the double point as a separator to make the titles easier to read and the vertical bar to split the film genres for each movie.\n",
    "\n",
    "In the following table, I shape the raw data into new columns, this way it's easier to extract information from the data frame.\n",
    "\n",
    "Description of the new variables\n",
    "---  \n",
    "\n",
    "| Variable      | Description                    |\n",
    "| :------------:| -------------------------------|\n",
    "| Movie         | English-speaking film titles   |\n",
    "| Original title| Foreign film titles            |\n",
    "| Year          | Movie release year             |\n",
    "| Genre         | Cinematographic genres for each film|\n",
    "\n",
    "*I assume the movies that only contain English titles are English-speaking. And movies with more than one title are non-English speaking.*"
   ]
  },
  {
   "cell_type": "markdown",
   "id": "6772b102",
   "metadata": {},
   "source": [
    "How many observations?"
   ]
  },
  {
   "cell_type": "code",
   "execution_count": 13,
   "id": "72e68f85",
   "metadata": {
    "ExecuteTime": {
     "end_time": "2021-12-19T03:10:16.532288Z",
     "start_time": "2021-12-19T03:10:16.524554Z"
    },
    "scrolled": true
   },
   "outputs": [
    {
     "name": "stdout",
     "output_type": "stream",
     "text": [
      "Movies dataframe has 3883 rows and 2 columns.\n"
     ]
    }
   ],
   "source": [
    "print(\n",
    "    f'Movies dataframe has {movies.shape[0]} rows and {movies.shape[1]} columns.'\n",
    "    )"
   ]
  },
  {
   "cell_type": "code",
   "execution_count": 14,
   "id": "98f8a5fd",
   "metadata": {
    "ExecuteTime": {
     "end_time": "2021-12-19T03:10:18.771038Z",
     "start_time": "2021-12-19T03:10:18.725618Z"
    },
    "scrolled": false
   },
   "outputs": [
    {
     "data": {
      "text/html": [
       "<div>\n",
       "<style scoped>\n",
       "    .dataframe tbody tr th:only-of-type {\n",
       "        vertical-align: middle;\n",
       "    }\n",
       "\n",
       "    .dataframe tbody tr th {\n",
       "        vertical-align: top;\n",
       "    }\n",
       "\n",
       "    .dataframe thead th {\n",
       "        text-align: right;\n",
       "    }\n",
       "</style>\n",
       "<table border=\"1\" class=\"dataframe\">\n",
       "  <thead>\n",
       "    <tr style=\"text-align: right;\">\n",
       "      <th></th>\n",
       "      <th>Movie</th>\n",
       "      <th>Genres</th>\n",
       "    </tr>\n",
       "  </thead>\n",
       "  <tbody>\n",
       "    <tr>\n",
       "      <th>3948</th>\n",
       "      <td>Meet the Parents (2000)</td>\n",
       "      <td>Comedy</td>\n",
       "    </tr>\n",
       "    <tr>\n",
       "      <th>3949</th>\n",
       "      <td>Requiem for a Dream (2000)</td>\n",
       "      <td>Drama</td>\n",
       "    </tr>\n",
       "    <tr>\n",
       "      <th>3950</th>\n",
       "      <td>Tigerland (2000)</td>\n",
       "      <td>Drama</td>\n",
       "    </tr>\n",
       "    <tr>\n",
       "      <th>3951</th>\n",
       "      <td>Two Family House (2000)</td>\n",
       "      <td>Drama</td>\n",
       "    </tr>\n",
       "    <tr>\n",
       "      <th>3952</th>\n",
       "      <td>Contender, The (2000)</td>\n",
       "      <td>Drama|Thriller</td>\n",
       "    </tr>\n",
       "  </tbody>\n",
       "</table>\n",
       "</div>"
      ],
      "text/plain": [
       "                           Movie          Genres\n",
       "3948     Meet the Parents (2000)          Comedy\n",
       "3949  Requiem for a Dream (2000)           Drama\n",
       "3950            Tigerland (2000)           Drama\n",
       "3951     Two Family House (2000)           Drama\n",
       "3952       Contender, The (2000)  Drama|Thriller"
      ]
     },
     "execution_count": 14,
     "metadata": {},
     "output_type": "execute_result"
    }
   ],
   "source": [
    "# Sorting columns\n",
    "col_names = [\"Movie\", \"Genres\"]\n",
    "\n",
    "# DataFrame\n",
    "movies = pd.read_csv('Movies/movies.dat',\n",
    "                     sep='::',\n",
    "                     engine='python',\n",
    "                     encoding='latin1',\n",
    "                     header=None,\n",
    "                     names=col_names)\n",
    "\n",
    "# Returns the first few rows:\n",
    "movies.tail()"
   ]
  },
  {
   "cell_type": "code",
   "execution_count": 15,
   "id": "5f8ca226",
   "metadata": {
    "ExecuteTime": {
     "end_time": "2021-12-19T03:10:21.487817Z",
     "start_time": "2021-12-19T03:10:21.401479Z"
    },
    "scrolled": false
   },
   "outputs": [
    {
     "data": {
      "text/html": [
       "<div>\n",
       "<style scoped>\n",
       "    .dataframe tbody tr th:only-of-type {\n",
       "        vertical-align: middle;\n",
       "    }\n",
       "\n",
       "    .dataframe tbody tr th {\n",
       "        vertical-align: top;\n",
       "    }\n",
       "\n",
       "    .dataframe thead th {\n",
       "        text-align: right;\n",
       "    }\n",
       "</style>\n",
       "<table border=\"1\" class=\"dataframe\">\n",
       "  <thead>\n",
       "    <tr style=\"text-align: right;\">\n",
       "      <th></th>\n",
       "      <th>Movie</th>\n",
       "      <th>Original_Title</th>\n",
       "      <th>Year</th>\n",
       "      <th>Genres_0</th>\n",
       "      <th>Genres_1</th>\n",
       "      <th>Genres_2</th>\n",
       "      <th>Genres_3</th>\n",
       "      <th>Genres_4</th>\n",
       "      <th>Genres_5</th>\n",
       "    </tr>\n",
       "  </thead>\n",
       "  <tbody>\n",
       "    <tr>\n",
       "      <th>1</th>\n",
       "      <td>Toy Story</td>\n",
       "      <td>NaN</td>\n",
       "      <td>1995</td>\n",
       "      <td>Animation</td>\n",
       "      <td>Children's</td>\n",
       "      <td>Comedy</td>\n",
       "      <td>None</td>\n",
       "      <td>None</td>\n",
       "      <td>None</td>\n",
       "    </tr>\n",
       "    <tr>\n",
       "      <th>2</th>\n",
       "      <td>Jumanji</td>\n",
       "      <td>NaN</td>\n",
       "      <td>1995</td>\n",
       "      <td>Adventure</td>\n",
       "      <td>Children's</td>\n",
       "      <td>Fantasy</td>\n",
       "      <td>None</td>\n",
       "      <td>None</td>\n",
       "      <td>None</td>\n",
       "    </tr>\n",
       "    <tr>\n",
       "      <th>3</th>\n",
       "      <td>Grumpier Old Men</td>\n",
       "      <td>NaN</td>\n",
       "      <td>1995</td>\n",
       "      <td>Comedy</td>\n",
       "      <td>Romance</td>\n",
       "      <td>None</td>\n",
       "      <td>None</td>\n",
       "      <td>None</td>\n",
       "      <td>None</td>\n",
       "    </tr>\n",
       "    <tr>\n",
       "      <th>4</th>\n",
       "      <td>Waiting to Exhale</td>\n",
       "      <td>NaN</td>\n",
       "      <td>1995</td>\n",
       "      <td>Comedy</td>\n",
       "      <td>Drama</td>\n",
       "      <td>None</td>\n",
       "      <td>None</td>\n",
       "      <td>None</td>\n",
       "      <td>None</td>\n",
       "    </tr>\n",
       "    <tr>\n",
       "      <th>5</th>\n",
       "      <td>Father of the Bride Part II</td>\n",
       "      <td>NaN</td>\n",
       "      <td>1995</td>\n",
       "      <td>Comedy</td>\n",
       "      <td>None</td>\n",
       "      <td>None</td>\n",
       "      <td>None</td>\n",
       "      <td>None</td>\n",
       "      <td>None</td>\n",
       "    </tr>\n",
       "  </tbody>\n",
       "</table>\n",
       "</div>"
      ],
      "text/plain": [
       "                         Movie Original_Title  Year   Genres_0    Genres_1  \\\n",
       "1                    Toy Story            NaN  1995  Animation  Children's   \n",
       "2                      Jumanji            NaN  1995  Adventure  Children's   \n",
       "3             Grumpier Old Men            NaN  1995     Comedy     Romance   \n",
       "4            Waiting to Exhale            NaN  1995     Comedy       Drama   \n",
       "5  Father of the Bride Part II            NaN  1995     Comedy        None   \n",
       "\n",
       "  Genres_2 Genres_3 Genres_4 Genres_5  \n",
       "1   Comedy     None     None     None  \n",
       "2  Fantasy     None     None     None  \n",
       "3     None     None     None     None  \n",
       "4     None     None     None     None  \n",
       "5     None     None     None     None  "
      ]
     },
     "execution_count": 15,
     "metadata": {},
     "output_type": "execute_result"
    }
   ],
   "source": [
    "## Adding new columns for:\n",
    "\n",
    "# Original titles 'Original_Title'\n",
    "movies['Original_Title'] = movies['Movie'].str.extract(r'\\((\\w.*[aA-zZ])\\)')\n",
    "\n",
    "# Release date 'Year'\n",
    "movies['Year'] = movies['Movie'].str.extract(r'\\((\\d{4})\\)')\n",
    "\n",
    "# Extracting only movie titles 'Movie'\n",
    "movies['Movie'] = movies['Movie'].replace('(\\s\\(\\w.*\\))', '', regex=True)\n",
    "\n",
    "## New dataframe for film genres 'Genres':\n",
    "Genres_df = movies['Genres'].str.split('|', expand=True)\n",
    "Genres_df.columns = ['Genres_' + str(x) for x in range(len(Genres_df.columns))]\n",
    "\n",
    "## Deleting the column of film genre:\n",
    "movies = movies.drop(['Genres'], axis=1)\n",
    "\n",
    "## Concatenate:\n",
    "film = pd.concat([movies, Genres_df], axis=1)\n",
    "film.head()"
   ]
  },
  {
   "cell_type": "markdown",
   "id": "73214e94",
   "metadata": {},
   "source": [
    "Inspecting the new dataframe: film"
   ]
  },
  {
   "cell_type": "code",
   "execution_count": 16,
   "id": "41e17095",
   "metadata": {
    "ExecuteTime": {
     "end_time": "2021-12-19T03:10:23.954694Z",
     "start_time": "2021-12-19T03:10:23.949167Z"
    },
    "code_folding": []
   },
   "outputs": [
    {
     "name": "stdout",
     "output_type": "stream",
     "text": [
      "Movies dataframe has 3883 rows and 9 columns.\n"
     ]
    }
   ],
   "source": [
    "# Returns the number of rows and columns of the df:\n",
    "print(f'Movies dataframe has {film.shape[0]} rows and {film.shape[1]} columns.')"
   ]
  },
  {
   "cell_type": "code",
   "execution_count": 17,
   "id": "c67c7b43",
   "metadata": {
    "ExecuteTime": {
     "end_time": "2021-12-19T03:10:26.485454Z",
     "start_time": "2021-12-19T03:10:26.460653Z"
    },
    "scrolled": true
   },
   "outputs": [
    {
     "name": "stdout",
     "output_type": "stream",
     "text": [
      "<class 'pandas.core.frame.DataFrame'>\n",
      "Int64Index: 3883 entries, 1 to 3952\n",
      "Data columns (total 9 columns):\n",
      " #   Column          Non-Null Count  Dtype \n",
      "---  ------          --------------  ----- \n",
      " 0   Movie           3883 non-null   object\n",
      " 1   Original_Title  253 non-null    object\n",
      " 2   Year            3883 non-null   object\n",
      " 3   Genres_0        3883 non-null   object\n",
      " 4   Genres_1        1858 non-null   object\n",
      " 5   Genres_2        536 non-null    object\n",
      " 6   Genres_3        115 non-null    object\n",
      " 7   Genres_4        15 non-null     object\n",
      " 8   Genres_5        1 non-null      object\n",
      "dtypes: object(9)\n",
      "memory usage: 303.4+ KB\n"
     ]
    }
   ],
   "source": [
    "film.info()"
   ]
  },
  {
   "cell_type": "code",
   "execution_count": 18,
   "id": "b8a7fc3c",
   "metadata": {},
   "outputs": [
    {
     "name": "stdout",
     "output_type": "stream",
     "text": [
      "The dtype for \"Year\" is: int64\n"
     ]
    }
   ],
   "source": [
    "# Changing the data type from 'Year'  to 'int64':\n",
    "film['Year'] = film['Year'].astype('int64')\n",
    "\n",
    "# Checking the Year dtype:\n",
    "print(f'The dtype for \"Year\" is: {film.Year.dtype}')"
   ]
  },
  {
   "cell_type": "markdown",
   "id": "661b200d",
   "metadata": {},
   "source": [
    "The *.info()* method displays information about the data type and the number of missing values for each column. We can see that the variable **Year** does not have the expected data type, int or datetime. In this case, as it is only the release year, there is no need to change it to datetime but to int."
   ]
  },
  {
   "cell_type": "markdown",
   "id": "17d830c7",
   "metadata": {},
   "source": [
    "Descriptive statistics\n",
    "----\n",
    "---"
   ]
  },
  {
   "cell_type": "code",
   "execution_count": 19,
   "id": "c241f6d4",
   "metadata": {
    "ExecuteTime": {
     "end_time": "2021-12-19T03:10:24.964995Z",
     "start_time": "2021-12-19T03:10:24.882547Z"
    },
    "scrolled": false
   },
   "outputs": [
    {
     "data": {
      "text/html": [
       "<div>\n",
       "<style scoped>\n",
       "    .dataframe tbody tr th:only-of-type {\n",
       "        vertical-align: middle;\n",
       "    }\n",
       "\n",
       "    .dataframe tbody tr th {\n",
       "        vertical-align: top;\n",
       "    }\n",
       "\n",
       "    .dataframe thead th {\n",
       "        text-align: right;\n",
       "    }\n",
       "</style>\n",
       "<table border=\"1\" class=\"dataframe\">\n",
       "  <thead>\n",
       "    <tr style=\"text-align: right;\">\n",
       "      <th></th>\n",
       "      <th>Movie</th>\n",
       "      <th>Original_Title</th>\n",
       "      <th>Year</th>\n",
       "      <th>Genres_0</th>\n",
       "      <th>Genres_1</th>\n",
       "      <th>Genres_2</th>\n",
       "      <th>Genres_3</th>\n",
       "      <th>Genres_4</th>\n",
       "      <th>Genres_5</th>\n",
       "    </tr>\n",
       "  </thead>\n",
       "  <tbody>\n",
       "    <tr>\n",
       "      <th>count</th>\n",
       "      <td>3883</td>\n",
       "      <td>253</td>\n",
       "      <td>3883.000000</td>\n",
       "      <td>3883</td>\n",
       "      <td>1858</td>\n",
       "      <td>536</td>\n",
       "      <td>115</td>\n",
       "      <td>15</td>\n",
       "      <td>1</td>\n",
       "    </tr>\n",
       "    <tr>\n",
       "      <th>unique</th>\n",
       "      <td>3833</td>\n",
       "      <td>251</td>\n",
       "      <td>NaN</td>\n",
       "      <td>18</td>\n",
       "      <td>17</td>\n",
       "      <td>15</td>\n",
       "      <td>13</td>\n",
       "      <td>6</td>\n",
       "      <td>1</td>\n",
       "    </tr>\n",
       "    <tr>\n",
       "      <th>top</th>\n",
       "      <td>Hamlet</td>\n",
       "      <td>Narayama Bushiko</td>\n",
       "      <td>NaN</td>\n",
       "      <td>Drama</td>\n",
       "      <td>Drama</td>\n",
       "      <td>Thriller</td>\n",
       "      <td>Thriller</td>\n",
       "      <td>Thriller</td>\n",
       "      <td>War</td>\n",
       "    </tr>\n",
       "    <tr>\n",
       "      <th>freq</th>\n",
       "      <td>5</td>\n",
       "      <td>2</td>\n",
       "      <td>NaN</td>\n",
       "      <td>1176</td>\n",
       "      <td>381</td>\n",
       "      <td>120</td>\n",
       "      <td>40</td>\n",
       "      <td>3</td>\n",
       "      <td>1</td>\n",
       "    </tr>\n",
       "    <tr>\n",
       "      <th>mean</th>\n",
       "      <td>NaN</td>\n",
       "      <td>NaN</td>\n",
       "      <td>1986.066959</td>\n",
       "      <td>NaN</td>\n",
       "      <td>NaN</td>\n",
       "      <td>NaN</td>\n",
       "      <td>NaN</td>\n",
       "      <td>NaN</td>\n",
       "      <td>NaN</td>\n",
       "    </tr>\n",
       "    <tr>\n",
       "      <th>std</th>\n",
       "      <td>NaN</td>\n",
       "      <td>NaN</td>\n",
       "      <td>16.895690</td>\n",
       "      <td>NaN</td>\n",
       "      <td>NaN</td>\n",
       "      <td>NaN</td>\n",
       "      <td>NaN</td>\n",
       "      <td>NaN</td>\n",
       "      <td>NaN</td>\n",
       "    </tr>\n",
       "    <tr>\n",
       "      <th>min</th>\n",
       "      <td>NaN</td>\n",
       "      <td>NaN</td>\n",
       "      <td>1919.000000</td>\n",
       "      <td>NaN</td>\n",
       "      <td>NaN</td>\n",
       "      <td>NaN</td>\n",
       "      <td>NaN</td>\n",
       "      <td>NaN</td>\n",
       "      <td>NaN</td>\n",
       "    </tr>\n",
       "    <tr>\n",
       "      <th>25%</th>\n",
       "      <td>NaN</td>\n",
       "      <td>NaN</td>\n",
       "      <td>1982.000000</td>\n",
       "      <td>NaN</td>\n",
       "      <td>NaN</td>\n",
       "      <td>NaN</td>\n",
       "      <td>NaN</td>\n",
       "      <td>NaN</td>\n",
       "      <td>NaN</td>\n",
       "    </tr>\n",
       "    <tr>\n",
       "      <th>50%</th>\n",
       "      <td>NaN</td>\n",
       "      <td>NaN</td>\n",
       "      <td>1994.000000</td>\n",
       "      <td>NaN</td>\n",
       "      <td>NaN</td>\n",
       "      <td>NaN</td>\n",
       "      <td>NaN</td>\n",
       "      <td>NaN</td>\n",
       "      <td>NaN</td>\n",
       "    </tr>\n",
       "    <tr>\n",
       "      <th>75%</th>\n",
       "      <td>NaN</td>\n",
       "      <td>NaN</td>\n",
       "      <td>1997.000000</td>\n",
       "      <td>NaN</td>\n",
       "      <td>NaN</td>\n",
       "      <td>NaN</td>\n",
       "      <td>NaN</td>\n",
       "      <td>NaN</td>\n",
       "      <td>NaN</td>\n",
       "    </tr>\n",
       "    <tr>\n",
       "      <th>max</th>\n",
       "      <td>NaN</td>\n",
       "      <td>NaN</td>\n",
       "      <td>2000.000000</td>\n",
       "      <td>NaN</td>\n",
       "      <td>NaN</td>\n",
       "      <td>NaN</td>\n",
       "      <td>NaN</td>\n",
       "      <td>NaN</td>\n",
       "      <td>NaN</td>\n",
       "    </tr>\n",
       "  </tbody>\n",
       "</table>\n",
       "</div>"
      ],
      "text/plain": [
       "         Movie    Original_Title         Year Genres_0 Genres_1  Genres_2  \\\n",
       "count     3883               253  3883.000000     3883     1858       536   \n",
       "unique    3833               251          NaN       18       17        15   \n",
       "top     Hamlet  Narayama Bushiko          NaN    Drama    Drama  Thriller   \n",
       "freq         5                 2          NaN     1176      381       120   \n",
       "mean       NaN               NaN  1986.066959      NaN      NaN       NaN   \n",
       "std        NaN               NaN    16.895690      NaN      NaN       NaN   \n",
       "min        NaN               NaN  1919.000000      NaN      NaN       NaN   \n",
       "25%        NaN               NaN  1982.000000      NaN      NaN       NaN   \n",
       "50%        NaN               NaN  1994.000000      NaN      NaN       NaN   \n",
       "75%        NaN               NaN  1997.000000      NaN      NaN       NaN   \n",
       "max        NaN               NaN  2000.000000      NaN      NaN       NaN   \n",
       "\n",
       "        Genres_3  Genres_4 Genres_5  \n",
       "count        115        15        1  \n",
       "unique        13         6        1  \n",
       "top     Thriller  Thriller      War  \n",
       "freq          40         3        1  \n",
       "mean         NaN       NaN      NaN  \n",
       "std          NaN       NaN      NaN  \n",
       "min          NaN       NaN      NaN  \n",
       "25%          NaN       NaN      NaN  \n",
       "50%          NaN       NaN      NaN  \n",
       "75%          NaN       NaN      NaN  \n",
       "max          NaN       NaN      NaN  "
      ]
     },
     "execution_count": 19,
     "metadata": {},
     "output_type": "execute_result"
    }
   ],
   "source": [
    "# Displays a summary statistics for each column:\n",
    "film.describe(include='all')"
   ]
  },
  {
   "cell_type": "markdown",
   "id": "b2765aae",
   "metadata": {},
   "source": [
    "1. In Original_Title, \"count\" and \"unique\" rows, why are the values different?"
   ]
  },
  {
   "cell_type": "code",
   "execution_count": 23,
   "id": "5d7b66e9",
   "metadata": {},
   "outputs": [
    {
     "name": "stdout",
     "output_type": "stream",
     "text": [
      "Most freq. values: \n",
      "Narayama Bushiko                2\n",
      "Gojira                          2\n",
      "Yao a yao yao dao waipo qiao    1\n",
      "Name: Original_Title, dtype: int64\n",
      "\n",
      "·The isin () method filters by the dataframe a particular (or multiple) value in the column.\n",
      "·If it matches, it returns \"True\", otherwise \"False\".\n"
     ]
    },
    {
     "data": {
      "text/html": [
       "<div>\n",
       "<style scoped>\n",
       "    .dataframe tbody tr th:only-of-type {\n",
       "        vertical-align: middle;\n",
       "    }\n",
       "\n",
       "    .dataframe tbody tr th {\n",
       "        vertical-align: top;\n",
       "    }\n",
       "\n",
       "    .dataframe thead th {\n",
       "        text-align: right;\n",
       "    }\n",
       "</style>\n",
       "<table border=\"1\" class=\"dataframe\">\n",
       "  <thead>\n",
       "    <tr style=\"text-align: right;\">\n",
       "      <th></th>\n",
       "      <th>Movie</th>\n",
       "      <th>Original_Title</th>\n",
       "      <th>Year</th>\n",
       "      <th>Genres_0</th>\n",
       "      <th>Genres_1</th>\n",
       "      <th>Genres_2</th>\n",
       "      <th>Genres_3</th>\n",
       "      <th>Genres_4</th>\n",
       "      <th>Genres_5</th>\n",
       "    </tr>\n",
       "  </thead>\n",
       "  <tbody>\n",
       "    <tr>\n",
       "      <th>2363</th>\n",
       "      <td>Godzilla</td>\n",
       "      <td>Gojira</td>\n",
       "      <td>1954</td>\n",
       "      <td>Action</td>\n",
       "      <td>Sci-Fi</td>\n",
       "      <td>None</td>\n",
       "      <td>None</td>\n",
       "      <td>None</td>\n",
       "      <td>None</td>\n",
       "    </tr>\n",
       "    <tr>\n",
       "      <th>2364</th>\n",
       "      <td>Godzilla</td>\n",
       "      <td>Gojira</td>\n",
       "      <td>1984</td>\n",
       "      <td>Action</td>\n",
       "      <td>Sci-Fi</td>\n",
       "      <td>None</td>\n",
       "      <td>None</td>\n",
       "      <td>None</td>\n",
       "      <td>None</td>\n",
       "    </tr>\n",
       "    <tr>\n",
       "      <th>854</th>\n",
       "      <td>Ballad of Narayama, The</td>\n",
       "      <td>Narayama Bushiko</td>\n",
       "      <td>1958</td>\n",
       "      <td>Drama</td>\n",
       "      <td>None</td>\n",
       "      <td>None</td>\n",
       "      <td>None</td>\n",
       "      <td>None</td>\n",
       "      <td>None</td>\n",
       "    </tr>\n",
       "    <tr>\n",
       "      <th>2512</th>\n",
       "      <td>Ballad of Narayama, The</td>\n",
       "      <td>Narayama Bushiko</td>\n",
       "      <td>1982</td>\n",
       "      <td>Drama</td>\n",
       "      <td>None</td>\n",
       "      <td>None</td>\n",
       "      <td>None</td>\n",
       "      <td>None</td>\n",
       "      <td>None</td>\n",
       "    </tr>\n",
       "  </tbody>\n",
       "</table>\n",
       "</div>"
      ],
      "text/plain": [
       "                        Movie    Original_Title  Year Genres_0 Genres_1  \\\n",
       "2363                 Godzilla            Gojira  1954   Action   Sci-Fi   \n",
       "2364                 Godzilla            Gojira  1984   Action   Sci-Fi   \n",
       "854   Ballad of Narayama, The  Narayama Bushiko  1958    Drama     None   \n",
       "2512  Ballad of Narayama, The  Narayama Bushiko  1982    Drama     None   \n",
       "\n",
       "     Genres_2 Genres_3 Genres_4 Genres_5  \n",
       "2363     None     None     None     None  \n",
       "2364     None     None     None     None  \n",
       "854      None     None     None     None  \n",
       "2512     None     None     None     None  "
      ]
     },
     "execution_count": 23,
     "metadata": {},
     "output_type": "execute_result"
    }
   ],
   "source": [
    "## Cuenta los valores y la frecuencia en que aparecen (para Original_Title):\n",
    "og = film['Original_Title'].value_counts()[:3]\n",
    "#print('Most freq. values  :::::::::::::::::\\n', og)\n",
    "print(f'Most freq. values: \\n{og}')\n",
    "# Lista con los valores mas frecuentes:\n",
    "ogt = [\"Narayama Bushiko\", \"Gojira\"]\n",
    "\n",
    "# Para filtrar en el dataframe \"isin()\":\n",
    "print('\\n·The isin () method filters by the dataframe a particular (or multiple) value in the column.\\n·If it matches, it returns \"True\", otherwise \"False\".')\n",
    "film[film[\"Original_Title\"].isin(ogt)].sort_values(by='Original_Title')"
   ]
  },
  {
   "cell_type": "markdown",
   "id": "74d3f238",
   "metadata": {},
   "source": [
    "Exploratory Data Analysis (EDA)\n",
    "---"
   ]
  },
  {
   "cell_type": "markdown",
   "id": "7aeb1731",
   "metadata": {},
   "source": [
    "#### ***What is the most common film genre?***"
   ]
  },
  {
   "cell_type": "code",
   "execution_count": 24,
   "id": "7fb25897",
   "metadata": {},
   "outputs": [],
   "source": [
    "## Gen:\n",
    "Gen = Genres_df.stack().value_counts()\n",
    "Gen_sorted = Genres_df.stack().value_counts().sort_index()\n",
    "\n",
    "## Get the film genres:\n",
    "Gen_index = Gen.index\n",
    "Gen_sorted_index = Gen_sorted.index\n",
    "\n",
    "## Get the film_genres values to np array:\n",
    "Gen_np = Gen.to_numpy()\n",
    "Gen_sorted_np = Gen_sorted.to_numpy()\n"
   ]
  },
  {
   "cell_type": "code",
   "execution_count": 25,
   "id": "4b969abb",
   "metadata": {},
   "outputs": [
    {
     "data": {
      "text/plain": [
       "Drama       1603\n",
       "Comedy      1200\n",
       "Action       503\n",
       "Thriller     492\n",
       "Romance      471\n",
       "dtype: int64"
      ]
     },
     "execution_count": 25,
     "metadata": {},
     "output_type": "execute_result"
    }
   ],
   "source": [
    "# TOP 5 MOST FREQUENT GENRES:\n",
    "Gen.head()"
   ]
  },
  {
   "cell_type": "code",
   "execution_count": 26,
   "id": "8bde6a08",
   "metadata": {},
   "outputs": [
    {
     "data": {
      "image/png": "[encoded data removed]",
      "text/plain": [
       "<Figure size 900x600 with 1 Axes>"
      ]
     },
     "metadata": {
      "needs_background": "light"
     },
     "output_type": "display_data"
    }
   ],
   "source": [
    "## FIGURE:\n",
    "plt.figure(figsize=(9,6), dpi=100)\n",
    "\n",
    "## PLOT:\n",
    "squarify.plot(\n",
    "    sizes=Gen_np, \n",
    "    label=Gen_index, \n",
    "    alpha=.8,\n",
    "    color=plt.cm.tab20c.colors,\n",
    "    pad = True,\n",
    "    text_kwargs={'color':'black', 'size':7.5})\n",
    "\n",
    "## ADDITIONAL PARAMETERS:\n",
    "# Title:\n",
    "plt.title('Genres frequency', size=10)\n",
    "# Hide axis:\n",
    "plt.axis('off')\n",
    "# Print plot:\n",
    "plt.show() "
   ]
  },
  {
   "cell_type": "markdown",
   "id": "10e61e7f",
   "metadata": {},
   "source": [
    "Function of colors: We can see 5 groups of colors, in each group the most intense color are the genres with more films in each color group."
   ]
  },
  {
   "cell_type": "code",
   "execution_count": 27,
   "id": "4f09dbcf",
   "metadata": {},
   "outputs": [
    {
     "data": {
      "image/png": "[encoded data removed]",
      "text/plain": [
       "<Figure size 500x500 with 1 Axes>"
      ]
     },
     "metadata": {
      "needs_background": "light"
     },
     "output_type": "display_data"
    }
   ],
   "source": [
    "## SORTED PLOT BY VALUE:\n",
    "\n",
    "#Figure\n",
    "plt.figure(figsize=(5,5), dpi=100)\n",
    "\n",
    "# Barplot\n",
    "sns.barplot(x=Gen_np, \n",
    "            y=Gen_index, \n",
    "            palette='Blues_r', #palette='CMRmap','RdPu_r' \n",
    "            orient='h')\n",
    "\n",
    "# Grid\n",
    "plt.grid(b = True, color = 'gray',linestyle=':');"
   ]
  },
  {
   "cell_type": "markdown",
   "id": "ae3bfcb9",
   "metadata": {},
   "source": [
    "#### ***What is the number of foreign language films?***"
   ]
  },
  {
   "cell_type": "code",
   "execution_count": 28,
   "id": "00e663af",
   "metadata": {},
   "outputs": [
    {
     "data": {
      "image/png": "[encoded data removed]",
      "text/plain": [
       "<Figure size 400x300 with 1 Axes>"
      ]
     },
     "metadata": {
      "needs_background": "light"
     },
     "output_type": "display_data"
    }
   ],
   "source": [
    "# VARIABLES:\n",
    "mv = film['Movie'].value_counts().sum()\n",
    "og = film['Original_Title'].value_counts().sum()\n",
    "\n",
    "## FIGURE:\n",
    "fig = plt.figure(figsize=(4,3), dpi=100)\n",
    "ax = fig.add_axes([0,0,0.5,1])\n",
    "\n",
    "# x,y axis:\n",
    "name = ['Movies', 'Original_Title']\n",
    "values = [mv, og]\n",
    "\n",
    "## PLOT:\n",
    "plt.bar(name, values, color='royalblue')\n",
    "# Label\n",
    "plt.ylabel('Amount')\n",
    "\n",
    "# Grid\n",
    "plt.grid(color='#95a5a6', linestyle=':', linewidth=2, axis='y', alpha=0.5)\n",
    "\n",
    "# Show plot\n",
    "plt.show()"
   ]
  },
  {
   "cell_type": "code",
   "execution_count": 29,
   "id": "d78f1c7c",
   "metadata": {},
   "outputs": [
    {
     "data": {
      "image/png": "[encoded data removed]",
      "text/plain": [
       "<Figure size 400x300 with 1 Axes>"
      ]
     },
     "metadata": {},
     "output_type": "display_data"
    }
   ],
   "source": [
    "## Figure\n",
    "fig = plt.figure(figsize=(4,3), dpi=100)\n",
    "\n",
    "## Set of colors\n",
    "colors = ['#ffe8c8','#99ff99']\n",
    "\n",
    "## PLOT\n",
    "plt.pie(values,\n",
    "        labels = name, \n",
    "        labeldistance = 1.1,\n",
    "        textprops={'fontsize': 10, 'color':'black'},\n",
    "        autopct = '%1.2f%%',\n",
    "        colors = colors, \n",
    "        wedgeprops = {'linewidth' : 1, 'edgecolor' : 'whitesmoke'}\n",
    "        );"
   ]
  },
  {
   "cell_type": "markdown",
   "id": "377d07e5",
   "metadata": {},
   "source": [
    "Original_Title are movies with non-English or foreign-speaking titles.  \n",
    "In this dataset *6.12%* represents non-English or foreign-speaking movies."
   ]
  },
  {
   "cell_type": "markdown",
   "id": "d2ab994e",
   "metadata": {},
   "source": [
    "#### ***Evolution in film production***"
   ]
  },
  {
   "cell_type": "code",
   "execution_count": 34,
   "id": "4d564b93",
   "metadata": {},
   "outputs": [
    {
     "data": {
      "text/html": [
       "<div>\n",
       "<style scoped>\n",
       "    .dataframe tbody tr th:only-of-type {\n",
       "        vertical-align: middle;\n",
       "    }\n",
       "\n",
       "    .dataframe tbody tr th {\n",
       "        vertical-align: top;\n",
       "    }\n",
       "\n",
       "    .dataframe thead th {\n",
       "        text-align: right;\n",
       "    }\n",
       "</style>\n",
       "<table border=\"1\" class=\"dataframe\">\n",
       "  <thead>\n",
       "    <tr style=\"text-align: right;\">\n",
       "      <th></th>\n",
       "      <th>Genres_0</th>\n",
       "      <th>Genres_1</th>\n",
       "      <th>Genres_2</th>\n",
       "      <th>Genres_3</th>\n",
       "      <th>Genres_4</th>\n",
       "      <th>Genres_5</th>\n",
       "    </tr>\n",
       "    <tr>\n",
       "      <th>Year</th>\n",
       "      <th></th>\n",
       "      <th></th>\n",
       "      <th></th>\n",
       "      <th></th>\n",
       "      <th></th>\n",
       "      <th></th>\n",
       "    </tr>\n",
       "  </thead>\n",
       "  <tbody>\n",
       "    <tr>\n",
       "      <th>1995</th>\n",
       "      <td>Animation</td>\n",
       "      <td>Children's</td>\n",
       "      <td>Comedy</td>\n",
       "      <td>None</td>\n",
       "      <td>None</td>\n",
       "      <td>None</td>\n",
       "    </tr>\n",
       "    <tr>\n",
       "      <th>1994</th>\n",
       "      <td>Action</td>\n",
       "      <td>Sci-Fi</td>\n",
       "      <td>None</td>\n",
       "      <td>None</td>\n",
       "      <td>None</td>\n",
       "      <td>None</td>\n",
       "    </tr>\n",
       "    <tr>\n",
       "      <th>1961</th>\n",
       "      <td>Children's</td>\n",
       "      <td>Drama</td>\n",
       "      <td>None</td>\n",
       "      <td>None</td>\n",
       "      <td>None</td>\n",
       "      <td>None</td>\n",
       "    </tr>\n",
       "    <tr>\n",
       "      <th>1997</th>\n",
       "      <td>Adventure</td>\n",
       "      <td>Children's</td>\n",
       "      <td>None</td>\n",
       "      <td>None</td>\n",
       "      <td>None</td>\n",
       "      <td>None</td>\n",
       "    </tr>\n",
       "    <tr>\n",
       "      <th>1985</th>\n",
       "      <td>Drama</td>\n",
       "      <td>None</td>\n",
       "      <td>None</td>\n",
       "      <td>None</td>\n",
       "      <td>None</td>\n",
       "      <td>None</td>\n",
       "    </tr>\n",
       "    <tr>\n",
       "      <th>1998</th>\n",
       "      <td>Drama</td>\n",
       "      <td>Romance</td>\n",
       "      <td>None</td>\n",
       "      <td>None</td>\n",
       "      <td>None</td>\n",
       "      <td>None</td>\n",
       "    </tr>\n",
       "    <tr>\n",
       "      <th>1972</th>\n",
       "      <td>Drama</td>\n",
       "      <td>None</td>\n",
       "      <td>None</td>\n",
       "      <td>None</td>\n",
       "      <td>None</td>\n",
       "      <td>None</td>\n",
       "    </tr>\n",
       "    <tr>\n",
       "      <th>1998</th>\n",
       "      <td>Comedy</td>\n",
       "      <td>Drama</td>\n",
       "      <td>None</td>\n",
       "      <td>None</td>\n",
       "      <td>None</td>\n",
       "      <td>None</td>\n",
       "    </tr>\n",
       "  </tbody>\n",
       "</table>\n",
       "</div>"
      ],
      "text/plain": [
       "        Genres_0    Genres_1 Genres_2 Genres_3 Genres_4 Genres_5\n",
       "Year                                                            \n",
       "1995   Animation  Children's   Comedy     None     None     None\n",
       "1994      Action      Sci-Fi     None     None     None     None\n",
       "1961  Children's       Drama     None     None     None     None\n",
       "1997   Adventure  Children's     None     None     None     None\n",
       "1985       Drama        None     None     None     None     None\n",
       "1998       Drama     Romance     None     None     None     None\n",
       "1972       Drama        None     None     None     None     None\n",
       "1998      Comedy       Drama     None     None     None     None"
      ]
     },
     "execution_count": 34,
     "metadata": {},
     "output_type": "execute_result"
    }
   ],
   "source": [
    "# Renaming columns:\n",
    "col_names = [\"Movie\", \"Genres\"]\n",
    "\n",
    "# DataFrame:\n",
    "movies_df = pd.read_csv('Movies/movies.dat',\n",
    "                     sep='::',\n",
    "                     engine='python',\n",
    "                     encoding='latin1',\n",
    "                     header=None,\n",
    "                     names=col_names)\n",
    "\n",
    "# Release date to 'Year':\n",
    "movies_df['Year'] = movies_df['Movie'].str.extract(r'\\((\\d{4})\\)')\n",
    "\n",
    "# Extracting only movie titles to 'Movie':\n",
    "movies_df['Movie'] = movies_df['Movie'].replace('(\\s\\(\\w.*\\))', '', regex=True)\n",
    "\n",
    "## New dataframe for film genres 'Genres_df':\n",
    "Genres_df = movies_df['Genres'].str.split('|', expand=True)\n",
    "Genres_df.columns = ['Genres_' + str(x) for x in range(len(Genres_df.columns))]\n",
    "\n",
    "# Deleting the orignal column of film 'Genres' and 'Movie':\n",
    "movies_df = movies_df.drop(['Genres', 'Movie'], axis=1)\n",
    "\n",
    "# Concatenate both df: Genres_df + movies:\n",
    "film = pd.concat([movies_df, Genres_df], axis=1)\n",
    "\n",
    "# Changing the data type from 'Year'  to 'int64':\n",
    "film['Year'] = film['Year'].astype('int64')\n",
    "\n",
    "# Setting 'Year' as new index:\n",
    "film.set_index('Year',inplace=True)\n",
    "\n",
    "film[::500]"
   ]
  },
  {
   "cell_type": "code",
   "execution_count": 32,
   "id": "9f2f72c9",
   "metadata": {
    "scrolled": false
   },
   "outputs": [
    {
     "data": {
      "image/png": "[encoded data removed]",
      "text/plain": [
       "<Figure size 900x500 with 1 Axes>"
      ]
     },
     "metadata": {},
     "output_type": "display_data"
    }
   ],
   "source": [
    "\n",
    "## Varaibale:\n",
    "year_index = film.index.value_counts().sort_index()\n",
    "\n",
    "## Figure:\n",
    "fig = plt.figure(figsize=(9,5), \n",
    "                dpi=100, \n",
    "                facecolor = 'whitesmoke', edgecolor = None)\n",
    "\n",
    "ax = fig.add_subplot(111)\n",
    "ax.patch.set_facecolor('whitesmoke')\n",
    "\n",
    "# Plot:\n",
    "year_index.plot(kind='line', \n",
    "                color='black', \n",
    "                marker='d', \n",
    "                markerfacecolor=('#b5a6e2'), \n",
    "                markeredgecolor=('#b5a6e2'))\n",
    "plt.grid();"
   ]
  },
  {
   "cell_type": "markdown",
   "id": "6fe3ab1e",
   "metadata": {},
   "source": [
    "- How many movies are produced each year?  \n",
    "For each year we have the number of films, the years stand out: 1996 (345), 1995 (342), 1998 (337).\n",
    "\n",
    "- How is the film production curve?  \n",
    "We can see that the number of movies per year is constantly increasing.  \n",
    "From 1991 (60) to 1996 (345) the production of films increased by 475%"
   ]
  }
 ],
 "metadata": {
  "kernelspec": {
   "display_name": "Python 3 (ipykernel)",
   "language": "python",
   "name": "python3"
  },
  "language_info": {
   "codemirror_mode": {
    "name": "ipython",
    "version": 3
   },
   "file_extension": ".py",
   "mimetype": "text/x-python",
   "name": "python",
   "nbconvert_exporter": "python",
   "pygments_lexer": "ipython3",
   "version": "3.9.7"
  },
  "latex_envs": {
   "LaTeX_envs_menu_present": true,
   "autoclose": false,
   "autocomplete": true,
   "bibliofile": "biblio.bib",
   "cite_by": "apalike",
   "current_citInitial": 1,
   "eqLabelWithNumbers": true,
   "eqNumInitial": 1,
   "hotkeys": {
    "equation": "Ctrl-E",
    "itemize": "Ctrl-I"
   },
   "labels_anchors": false,
   "latex_user_defs": false,
   "report_style_numbering": false,
   "user_envs_cfg": false
  },
  "nbTranslate": {
   "displayLangs": [
    "*"
   ],
   "hotkey": "alt-t",
   "langInMainMenu": true,
   "sourceLang": "en",
   "targetLang": "fr",
   "useGoogleTranslate": true
  }
 },
 "nbformat": 4,
 "nbformat_minor": 5
}
